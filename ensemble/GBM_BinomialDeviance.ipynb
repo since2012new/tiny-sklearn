{
 "cells": [
  {
   "cell_type": "code",
   "execution_count": 1,
   "metadata": {
    "collapsed": true
   },
   "outputs": [],
   "source": [
    "import numpy as np\n",
    "import pandas as pd\n",
    "from scipy.special import expit\n",
    "from sklearn.datasets import load_breast_cancer\n",
    "from sklearn.tree import DecisionTreeRegressor\n",
    "from sklearn.ensemble import GradientBoostingClassifier as skGradientBoostingClassifier\n",
    "from sklearn.tree._tree import TREE_LEAF\n",
    "from copy import copy\n",
    "from sklearn.metrics import roc_auc_score\n",
    "\n",
    "import matplotlib.pyplot as plt\n",
    "%matplotlib inline\n"
   ]
  },
  {
   "cell_type": "markdown",
   "metadata": {},
   "source": [
    "### Implementation 1\n",
    "- Binomial deviance loss function for binary classification\n",
    "- GradientBoostingClassifier similar to sklearn but need a regression tree estimator as input\n"
   ]
  },
  {
   "cell_type": "code",
   "execution_count": 2,
   "metadata": {
    "collapsed": true
   },
   "outputs": [],
   "source": [
    "class LogOddsEstimator():\n",
    "    \"\"\"An estimator predicting the log odds ratio.\"\"\"\n",
    "    def __init__(self, scale = 1.0):\n",
    "        self.scale = scale        \n",
    "        \n",
    "    def fit(self, X, y):\n",
    "        pos = np.sum(y)\n",
    "        neg = len(y) - pos\n",
    "        if neg == 0 or pos == 0:\n",
    "            raise ValueError('y contains non binary labels.')\n",
    "        self.prior = self.scale * np.log(1.0 * pos / neg)\n",
    "    \n",
    "    def predict(self, X):\n",
    "        y = np.empty((X.shape[0], 1), dtype=np.float64)\n",
    "        y.fill(self.prior)\n",
    "        return y"
   ]
  },
  {
   "cell_type": "code",
   "execution_count": 3,
   "metadata": {
    "collapsed": true
   },
   "outputs": [],
   "source": [
    "class BinomialDeviance():\n",
    "    \"\"\"Binomial deviance loss function for binary classification(n_classes = 2).\"\"\"        \n",
    "    def __init__(self):\n",
    "        self.K = 2     \n",
    "        \n",
    "    def init_estimator(self):\n",
    "        return LogOddsEstimator()\n",
    "    \n",
    "    def negative_gradient(self, y, raw_predictions, **kargs):\n",
    "        ### Compute the residual (= negative gradient).\n",
    "        return y - expit(raw_predictions.ravel())\n",
    "    \n",
    "    def _update_terminal_region(self, tree, terminal_regions, leaf, X, y,\n",
    "                                residual, raw_predictions):\n",
    "        \"\"\"\n",
    "        Make a single Newton-Raphson step.\n",
    "        each leaf node estimate is given by: sum(y - prob) / sum(prob * (1 - prob))\n",
    "        we take advantage that: y - prob = residual\n",
    "        \"\"\"\n",
    "        \n",
    "        # original terminal_regions, residual, y not updated\n",
    "        terminal_region = np.where(terminal_regions == leaf)[0]\n",
    "        residual = residual.take(terminal_region, axis=0)\n",
    "        y = y.take(terminal_region, axis=0)\n",
    "        numerator = np.sum(residual)\n",
    "        denominator = np.sum((y - residual) * (1 - y + residual))\n",
    "\n",
    "        # prevents overflow and division by zero\n",
    "        # original tree updated\n",
    "        if abs(denominator) < 1e-150:\n",
    "            tree.value[leaf, 0, 0] = 0.0\n",
    "        else:\n",
    "            tree.value[leaf, 0, 0] = 1.0 * numerator / denominator\n",
    "    \n",
    "    def update_terminal_regions(self, tree, X, y, residual, raw_predictions,\n",
    "                                learning_rate=0.1, k=0):\n",
    "        \"\"\"\n",
    "        Update the terminal regions (=leaves) of the given tree and\n",
    "        updates the current predictions of the model. Traverses tree\n",
    "        and invokes template method `_update_terminal_region.\n",
    "        Parameters\n",
    "        ----------\n",
    "        tree : tree.Tree\n",
    "            The tree object.\n",
    "        X : 2d array, shape (n, m)\n",
    "            The data array with dtype np.float32\n",
    "        y : 1d array, shape (n,)\n",
    "            The target labels.\n",
    "        residual : 1d array, shape (n,)\n",
    "            The residuals (usually the negative gradient).\n",
    "        raw_predictions : 2d array, shape (n_samples, K)\n",
    "            The raw predictions (i.e. values from the tree leaves) of the\n",
    "            tree ensemble at iteration i - 1.\n",
    "        learning_rate : float, default=0.1\n",
    "            Learning rate shrinks the contribution of each tree by learning_rate.\n",
    "        k : int, default=0\n",
    "            The index of the estimator being updated.\n",
    "        \"\"\"\n",
    "        # compute leaf node index for each sample in X.\n",
    "        terminal_regions = tree.apply(X)\n",
    "\n",
    "        # update each leaf node (= perform line search)\n",
    "        for leaf in np.where(tree.children_left == TREE_LEAF)[0]:\n",
    "            self._update_terminal_region(tree, terminal_regions,\n",
    "                                         leaf, X, y, residual,\n",
    "                                         raw_predictions[:, k])\n",
    "        \n",
    "        # update predictions, original raw_predictions updated\n",
    "        raw_predictions[:, k] += learning_rate * tree.value[:, 0, 0].take(terminal_regions, axis=0)\n",
    "        \n",
    "        \n",
    "    def raw_prediction_to_proba(self, raw_predictions):\n",
    "        proba = np.ones((raw_predictions.shape[0], 2), dtype=np.float64)\n",
    "        proba[:, 1] = expit(raw_predictions.ravel())\n",
    "        proba[:, 0] -= proba[:, 1]\n",
    "        return proba\n",
    "\n",
    "    def raw_prediction_to_decision(self, raw_predictions):\n",
    "        proba = self.raw_prediction_to_proba(raw_predictions)\n",
    "        return np.argmax(proba, axis=1)\n",
    "                \n",
    "        \n",
    "    def __call__(self, y, raw_predictions):\n",
    "        ### Compute the deviance (= 2 * negative log-likelihood).\n",
    "        raw_predictions = raw_predictions.ravel()\n",
    "        return -2 * np.mean((y * raw_predictions) - np.logaddexp(0, raw_predictions))\n",
    "    "
   ]
  },
  {
   "cell_type": "code",
   "execution_count": 4,
   "metadata": {
    "collapsed": true
   },
   "outputs": [],
   "source": [
    "class GradientBoostingClassifier():\n",
    "    def __init__(self, loss=None, learning_rate=0.1, n_estimators=100, base_estimator=None):\n",
    "        self.n_estimators = n_estimators\n",
    "        self.learning_rate = learning_rate\n",
    "        self.loss = loss # loss object \n",
    "        self.base_estimator = base_estimator\n",
    "        self.init_estimator = None\n",
    "        self.estimators_ = np.empty(n_estimators, dtype=np.object)\n",
    "        \n",
    "    def _fit_stage(self, i, X, y, raw_predictions):\n",
    "        \"\"\"Fit ith stage of binary classification trees to the boosting model. \"\"\"\n",
    "        loss = self.loss\n",
    "        # for k >= 1, need to pass a copy of raw_predictions to negative_gradient()\n",
    "        # because raw_predictions is partially updated at the end of the loop\n",
    "        # in update_terminal_regions(), and gradients need to be evaluated at\n",
    "        # iteration i - 1.\n",
    "        raw_predictions_copy = raw_predictions.copy()\n",
    "        residual = loss.negative_gradient(y, raw_predictions_copy)\n",
    "        \n",
    "        # induce regression tree on residuals\n",
    "        tree = copy(self.base_estimator)\n",
    "        tree.fit(X, residual, check_input=False)\n",
    "        # update tree leaves\n",
    "        loss.update_terminal_regions(tree.tree_, X, y, residual, raw_predictions, \n",
    "                                     learning_rate=self.learning_rate, k=0)\n",
    "\n",
    "        # add tree to ensemble\n",
    "        self.estimators_[i] = tree\n",
    "    \n",
    "        return raw_predictions\n",
    "    \n",
    "    def fit(self, X, y):\n",
    "        loss = self.loss\n",
    "        self.init_estimator = loss.init_estimator()\n",
    "        self.init_estimator.fit(X, y)\n",
    "        raw_predictions = self.init_estimator.predict(X)\n",
    "        X = X.astype(np.float32)\n",
    "        for i in range(self.n_estimators):\n",
    "            raw_predictions = self._fit_stage(i, X, y, raw_predictions)\n",
    "        \n",
    "        \n",
    "        self.proba = loss.raw_prediction_to_proba(raw_predictions)\n",
    "    \n",
    "        return self\n",
    "\n",
    "    def predict_proba(self, X):\n",
    "        raw_predictions = self.init_estimator.predict(X).ravel()\n",
    "        for i in range(self.n_estimators):\n",
    "            raw_predictions += self.learning_rate * self.estimators_[i].predict(X)\n",
    "        \n",
    "        proba = self.loss.raw_prediction_to_proba(raw_predictions)\n",
    "        \n",
    "        return proba\n",
    "\n",
    "        "
   ]
  },
  {
   "cell_type": "markdown",
   "metadata": {},
   "source": [
    "#### example 1"
   ]
  },
  {
   "cell_type": "code",
   "execution_count": 5,
   "metadata": {
    "collapsed": true
   },
   "outputs": [],
   "source": [
    "# base paramters configuration\n",
    "params_base = {'criterion':'friedman_mse',\n",
    "               'max_depth':3,\n",
    "               'min_samples_split':2, \n",
    "               'min_samples_leaf':1, \n",
    "               'min_weight_fraction_leaf':0.0, \n",
    "               #'min_impurity_decrease':0.0, # new in version 0.19\n",
    "               #'min_impurity_split':0.1,\n",
    "               'max_features':1.0,\n",
    "               'max_leaf_nodes':10,\n",
    "               'random_state':100, \n",
    "               'presort':False}\n",
    "### base paramters keep the same for skGradientBoostingClassifier\n",
    "learning_rate_ = 0.1\n",
    "n_estimators_ = 50\n"
   ]
  },
  {
   "cell_type": "code",
   "execution_count": 6,
   "metadata": {},
   "outputs": [
    {
     "ename": "AssertionError",
     "evalue": "",
     "output_type": "error",
     "traceback": [
      "\u001b[1;31m---------------------------------------------------------------------------\u001b[0m",
      "\u001b[1;31mAssertionError\u001b[0m                            Traceback (most recent call last)",
      "\u001b[1;32m<ipython-input-6-90e5f20bef0e>\u001b[0m in \u001b[0;36m<module>\u001b[1;34m()\u001b[0m\n\u001b[0;32m     16\u001b[0m \u001b[0mprob1\u001b[0m \u001b[1;33m=\u001b[0m \u001b[0mclf1\u001b[0m\u001b[1;33m.\u001b[0m\u001b[0mpredict_proba\u001b[0m\u001b[1;33m(\u001b[0m\u001b[0mX\u001b[0m\u001b[1;33m)\u001b[0m\u001b[1;33m[\u001b[0m\u001b[1;33m:\u001b[0m\u001b[1;33m,\u001b[0m\u001b[1;36m1\u001b[0m\u001b[1;33m]\u001b[0m\u001b[1;33m\u001b[0m\u001b[0m\n\u001b[0;32m     17\u001b[0m \u001b[0mprob2\u001b[0m \u001b[1;33m=\u001b[0m \u001b[0mclf2\u001b[0m\u001b[1;33m.\u001b[0m\u001b[0mpredict_proba\u001b[0m\u001b[1;33m(\u001b[0m\u001b[0mX\u001b[0m\u001b[1;33m)\u001b[0m\u001b[1;33m[\u001b[0m\u001b[1;33m:\u001b[0m\u001b[1;33m,\u001b[0m\u001b[1;36m1\u001b[0m\u001b[1;33m]\u001b[0m\u001b[1;33m\u001b[0m\u001b[0m\n\u001b[1;32m---> 18\u001b[1;33m \u001b[1;32massert\u001b[0m \u001b[0mnp\u001b[0m\u001b[1;33m.\u001b[0m\u001b[0mallclose\u001b[0m\u001b[1;33m(\u001b[0m\u001b[0mprob1\u001b[0m\u001b[1;33m,\u001b[0m \u001b[0mprob2\u001b[0m\u001b[1;33m)\u001b[0m\u001b[1;33m\u001b[0m\u001b[0m\n\u001b[0m\u001b[0;32m     19\u001b[0m \u001b[1;32mprint\u001b[0m \u001b[1;34m'checked!'\u001b[0m\u001b[1;33m\u001b[0m\u001b[0m\n",
      "\u001b[1;31mAssertionError\u001b[0m: "
     ]
    }
   ],
   "source": [
    "loss_ = BinomialDeviance()\n",
    "base_estimator_ = DecisionTreeRegressor()\n",
    "base_estimator_.set_params(**params_base)\n",
    "clf1 = GradientBoostingClassifier(loss = loss_, \n",
    "                                  learning_rate = learning_rate_, n_estimators = n_estimators_, \n",
    "                                  base_estimator = base_estimator_)\n",
    "\n",
    "clf2 = skGradientBoostingClassifier(loss = 'deviance', learning_rate = learning_rate_, n_estimators = n_estimators_, \n",
    "                                 init = None, verbose = 0, warm_start = False, n_iter_no_change = None)\n",
    "clf2.set_params(**params_base)\n",
    "\n",
    "### fit model\n",
    "X, y = load_breast_cancer(return_X_y = True)\n",
    "clf1.fit(X, y)\n",
    "clf2.fit(X, y)\n",
    "prob1 = clf1.predict_proba(X)[:,1]\n",
    "prob2 = clf2.predict_proba(X)[:,1]\n",
    "assert np.allclose(prob1, prob2)\n",
    "print 'checked!'"
   ]
  },
  {
   "cell_type": "code",
   "execution_count": 7,
   "metadata": {},
   "outputs": [
    {
     "data": {
      "image/png": "[encoded data removed]",
      "text/plain": [
       "<matplotlib.figure.Figure at 0x1bd42320>"
      ]
     },
     "metadata": {},
     "output_type": "display_data"
    },
    {
     "name": "stdout",
     "output_type": "stream",
     "text": [
      "[0.0, 0.07408462808335381, 0.07468689953183964, 0.045477648944597666, 4.280072172192284e-05]\n"
     ]
    },
    {
     "data": {
      "image/png": "[encoded data removed]",
      "text/plain": [
       "<matplotlib.figure.Figure at 0x1c3707b8>"
      ]
     },
     "metadata": {},
     "output_type": "display_data"
    },
    {
     "name": "stdout",
     "output_type": "stream",
     "text": [
      "[0.2301909057679196, 0.1676825935921981, 0.12112192682168611, 0.2367489891215722, 0.17159746503710524]\n"
     ]
    }
   ],
   "source": [
    "fig = plt.figure(figsize = (20,4))\n",
    "start = 0\n",
    "end = 5\n",
    "mse = []\n",
    "for i in range(start, end):\n",
    "    ax1 = fig.add_subplot(1,end-start,i-start+1)\n",
    "    x_ = clf1.estimators_[i].predict(X)\n",
    "    y_ = clf2.estimators_[i,0].predict(X)\n",
    "    x_idx = range(len(x_))\n",
    "    plt.scatter(x_idx,x_ - y_,s=1)\n",
    "    plt.title(str(i+1))\n",
    "    mse.append(np.mean((x_-y_)**2))\n",
    "plt.show()\n",
    "print mse\n",
    "\n",
    "fig = plt.figure(figsize = (20,4))\n",
    "start = n_estimators_-5\n",
    "end = n_estimators_\n",
    "mse = []\n",
    "for i in range(start, end):\n",
    "    ax1 = fig.add_subplot(1,end-start,i-start+1)\n",
    "    x_ = clf1.estimators_[i].predict(X)\n",
    "    y_ = clf2.estimators_[i,0].predict(X)\n",
    "    x_idx = range(len(x_))\n",
    "    plt.scatter(x_idx,x_ - y_,s=1)\n",
    "    plt.title(str(i+1))\n",
    "    mse.append(np.mean((x_-y_)**2))\n",
    "plt.show()\n",
    "print mse"
   ]
  },
  {
   "cell_type": "code",
   "execution_count": 8,
   "metadata": {},
   "outputs": [
    {
     "name": "stdout",
     "output_type": "stream",
     "text": [
      "0.9999999999999999\n",
      "1.0\n"
     ]
    }
   ],
   "source": [
    "print roc_auc_score(y,prob1)\n",
    "print roc_auc_score(y,prob2)"
   ]
  },
  {
   "cell_type": "markdown",
   "metadata": {},
   "source": [
    "#### example 2"
   ]
  },
  {
   "cell_type": "code",
   "execution_count": null,
   "metadata": {
    "collapsed": true
   },
   "outputs": [],
   "source": []
  },
  {
   "cell_type": "code",
   "execution_count": null,
   "metadata": {
    "collapsed": true
   },
   "outputs": [],
   "source": []
  }
 ],
 "metadata": {
  "kernelspec": {
   "display_name": "Python 2",
   "language": "python",
   "name": "python2"
  },
  "language_info": {
   "codemirror_mode": {
    "name": "ipython",
    "version": 2
   },
   "file_extension": ".py",
   "mimetype": "text/x-python",
   "name": "python",
   "nbconvert_exporter": "python",
   "pygments_lexer": "ipython2",
   "version": "2.7.13"
  }
 },
 "nbformat": 4,
 "nbformat_minor": 2
}
